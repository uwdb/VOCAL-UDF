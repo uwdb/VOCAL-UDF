{
 "cells": [
  {
   "cell_type": "code",
   "execution_count": 17,
   "metadata": {},
   "outputs": [],
   "source": [
    "import os\n",
    "import sys\n",
    "module_path = os.path.abspath(os.path.join('..'))\n",
    "if module_path not in sys.path:\n",
    "    sys.path.append(module_path)"
   ]
  },
  {
   "cell_type": "code",
   "execution_count": 19,
   "metadata": {},
   "outputs": [],
   "source": [
    "from PIL import Image\n",
    "from IPython.core.display import HTML\n",
    "from functools import partial\n",
    "\n",
    "from engine.utils import ProgramGenerator, ProgramInterpreter\n",
    "from prompts.nlvr import create_prompt"
   ]
  },
  {
   "cell_type": "code",
   "execution_count": 20,
   "metadata": {},
   "outputs": [
    {
     "name": "stdout",
     "output_type": "stream",
     "text": [
      "Registering VQA step\n",
      "Registering EVAL step\n",
      "Registering RESULT step\n"
     ]
    }
   ],
   "source": [
    "interpreter = ProgramInterpreter(dataset='nlvr')"
   ]
  },
  {
   "cell_type": "code",
   "execution_count": 21,
   "metadata": {},
   "outputs": [],
   "source": [
    "prompter = partial(create_prompt,method='all')\n",
    "generator = ProgramGenerator(prompter=prompter)"
   ]
  },
  {
   "cell_type": "code",
   "execution_count": 22,
   "metadata": {},
   "outputs": [],
   "source": [
    "left_image = Image.open('../assets/camel1.png')\n",
    "left_image.thumbnail((640,640),Image.Resampling.LANCZOS)\n",
    "right_image = Image.open('../assets/camel2.png')\n",
    "right_image.thumbnail((640,640),Image.Resampling.LANCZOS)\n",
    "init_state = dict(\n",
    "    LEFT=left_image.convert('RGB'),\n",
    "    RIGHT=right_image.convert('RGB'),\n",
    ")"
   ]
  },
  {
   "cell_type": "code",
   "execution_count": 23,
   "metadata": {},
   "outputs": [
    {
     "name": "stdout",
     "output_type": "stream",
     "text": [
      "ANSWER0=VQA(image=LEFT,question='Is there a woman in black in the image?')\n",
      "ANSWER1=VQA(image=RIGHT,question='Is there a woman in black in the image?')\n",
      "ANSWER2=VQA(image=LEFT,question='How many camels are in the image?')\n",
      "ANSWER3=VQA(image=RIGHT,question='How many camels are in the image?')\n",
      "ANSWER4=EVAL(expr='{ANSWER0} xor {ANSWER1} and {ANSWER2} + {ANSWER3} == 2')\n",
      "FINAL_ANSWER=RESULT(var=ANSWER4)\n"
     ]
    }
   ],
   "source": [
    "statement = \"There is a woman in black in exactly one of the images and two camels in total.\"\n",
    "# statement = \"There are more camels than people.\"\n",
    "# statement = \"The camel is sitting in both images.\"\n",
    "# statement = \"There are no trees in the images.\"\n",
    "prog,_ = generator.generate(dict(statement=statement))\n",
    "print(prog)"
   ]
  },
  {
   "cell_type": "code",
   "execution_count": 24,
   "metadata": {},
   "outputs": [
    {
     "name": "stdout",
     "output_type": "stream",
     "text": [
      "VQA\n",
      "VQA\n",
      "VQA\n",
      "VQA\n",
      "EVAL\n"
     ]
    },
    {
     "ename": "TypeError",
     "evalue": "can only concatenate str (not \"int\") to str",
     "output_type": "error",
     "traceback": [
      "\u001b[0;31m---------------------------------------------------------------------------\u001b[0m",
      "\u001b[0;31mTypeError\u001b[0m                                 Traceback (most recent call last)",
      "\u001b[1;32m/home/enhao/visprog/notebooks/nlvr.ipynb Cell 8\u001b[0m line \u001b[0;36m1\n\u001b[0;32m----> <a href='vscode-notebook-cell://ssh-remote%2Bbrandon/home/enhao/visprog/notebooks/nlvr.ipynb#X10sdnNjb2RlLXJlbW90ZQ%3D%3D?line=0'>1</a>\u001b[0m result, prog_state, html_str \u001b[39m=\u001b[39m interpreter\u001b[39m.\u001b[39;49mexecute(prog,init_state,inspect\u001b[39m=\u001b[39;49m\u001b[39mTrue\u001b[39;49;00m)\n",
      "File \u001b[0;32m~/visprog/engine/utils.py:38\u001b[0m, in \u001b[0;36mProgramInterpreter.execute\u001b[0;34m(self, prog, init_state, inspect)\u001b[0m\n\u001b[1;32m     36\u001b[0m \u001b[39mfor\u001b[39;00m prog_step \u001b[39min\u001b[39;00m prog_steps:\n\u001b[1;32m     37\u001b[0m     \u001b[39mif\u001b[39;00m inspect:\n\u001b[0;32m---> 38\u001b[0m         step_output, step_html \u001b[39m=\u001b[39m \u001b[39mself\u001b[39;49m\u001b[39m.\u001b[39;49mexecute_step(prog_step,inspect)\n\u001b[1;32m     39\u001b[0m         html_str \u001b[39m+\u001b[39m\u001b[39m=\u001b[39m step_html \u001b[39m+\u001b[39m \u001b[39m'\u001b[39m\u001b[39m<hr>\u001b[39m\u001b[39m'\u001b[39m\n\u001b[1;32m     40\u001b[0m     \u001b[39melse\u001b[39;00m:\n",
      "File \u001b[0;32m~/visprog/engine/utils.py:24\u001b[0m, in \u001b[0;36mProgramInterpreter.execute_step\u001b[0;34m(self, prog_step, inspect)\u001b[0m\n\u001b[1;32m     22\u001b[0m step_name \u001b[39m=\u001b[39m parse_step(prog_step\u001b[39m.\u001b[39mprog_str,partial\u001b[39m=\u001b[39m\u001b[39mTrue\u001b[39;00m)[\u001b[39m'\u001b[39m\u001b[39mstep_name\u001b[39m\u001b[39m'\u001b[39m]\n\u001b[1;32m     23\u001b[0m \u001b[39mprint\u001b[39m(step_name)\n\u001b[0;32m---> 24\u001b[0m \u001b[39mreturn\u001b[39;00m \u001b[39mself\u001b[39;49m\u001b[39m.\u001b[39;49mstep_interpreters[step_name]\u001b[39m.\u001b[39;49mexecute(prog_step,inspect)\n",
      "File \u001b[0;32m~/visprog/engine/step_interpreters.py:103\u001b[0m, in \u001b[0;36mEvalInterpreter.execute\u001b[0;34m(self, prog_step, inspect)\u001b[0m\n\u001b[1;32m    100\u001b[0m     step_input \u001b[39m=\u001b[39m step_input\u001b[39m.\u001b[39mreplace(\u001b[39m'\u001b[39m\u001b[39mxor\u001b[39m\u001b[39m'\u001b[39m,\u001b[39m'\u001b[39m\u001b[39m!=\u001b[39m\u001b[39m'\u001b[39m)\n\u001b[1;32m    102\u001b[0m step_input \u001b[39m=\u001b[39m step_input\u001b[39m.\u001b[39mformat(\u001b[39m*\u001b[39m\u001b[39m*\u001b[39mprog_state)\n\u001b[0;32m--> 103\u001b[0m step_output \u001b[39m=\u001b[39m \u001b[39meval\u001b[39;49m(step_input)\n\u001b[1;32m    104\u001b[0m prog_step\u001b[39m.\u001b[39mstate[output_var] \u001b[39m=\u001b[39m step_output\n\u001b[1;32m    105\u001b[0m \u001b[39mif\u001b[39;00m inspect:\n",
      "File \u001b[0;32m<string>:1\u001b[0m\n",
      "\u001b[0;31mTypeError\u001b[0m: can only concatenate str (not \"int\") to str"
     ]
    }
   ],
   "source": [
    "result, prog_state, html_str = interpreter.execute(prog,init_state,inspect=True)"
   ]
  },
  {
   "cell_type": "code",
   "execution_count": null,
   "metadata": {},
   "outputs": [],
   "source": [
    "result"
   ]
  },
  {
   "cell_type": "code",
   "execution_count": null,
   "metadata": {},
   "outputs": [],
   "source": [
    "HTML(html_str)"
   ]
  }
 ],
 "metadata": {
  "kernelspec": {
   "display_name": "visprog",
   "language": "python",
   "name": "python3"
  },
  "language_info": {
   "codemirror_mode": {
    "name": "ipython",
    "version": 3
   },
   "file_extension": ".py",
   "mimetype": "text/x-python",
   "name": "python",
   "nbconvert_exporter": "python",
   "pygments_lexer": "ipython3",
   "version": "3.10.13"
  },
  "orig_nbformat": 4
 },
 "nbformat": 4,
 "nbformat_minor": 2
}
