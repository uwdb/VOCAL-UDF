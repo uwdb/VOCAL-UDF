{
 "cells": [
  {
   "cell_type": "code",
   "execution_count": 1,
   "metadata": {},
   "outputs": [],
   "source": [
    "import os\n",
    "import sys\n",
    "module_path = os.path.abspath(os.path.join('..'))\n",
    "if module_path not in sys.path:\n",
    "    sys.path.append(module_path)"
   ]
  },
  {
   "cell_type": "code",
   "execution_count": null,
   "metadata": {},
   "outputs": [],
   "source": [
    "from PIL import Image\n",
    "from IPython.core.display import HTML\n",
    "from functools import partial\n",
    "import cv2\n",
    "\n",
    "from visprog.engine.utils import ProgramGenerator, ProgramInterpreter\n",
    "from visprog.prompts.clevrer import create_prompt\n",
    "import base64\n",
    "import numpy as np\n",
    "from tqdm import tqdm"
   ]
  },
  {
   "cell_type": "code",
   "execution_count": null,
   "metadata": {},
   "outputs": [],
   "source": [
    "module_list = [\"LOC\", \"TRACK\", \"GRAY\", \"RED\", \"BLUE\", \"GREEN\", \"CUBE\", \"SPHERE\", \"RUBBER\", \"LEFT\", \"TOP\", \"LEFTOF\", \"FRONTOF\", \"EVENT\", \"BEFORE\", \"EVAL\", \"RESULT\"]\n",
    "new_modules = [\"METAL\", \"RIGHTOF\", \"CYAN\"]\n",
    "module_list += new_modules \n",
    "use_precomputed = True\n",
    "interpreter = ProgramInterpreter(dataset='clevrer', use_precomputed=use_precomputed, module_list=module_list)\n"
   ]
  },
  {
   "cell_type": "code",
   "execution_count": null,
   "metadata": {},
   "outputs": [],
   "source": [
    "prog = \"OBJ0=LOC(video=VIDEO,object='object')\\nOBJT=TRACK(object=OBJ0)\\nPRED0=FRONTOF(object1=OBJT,var1='o0',object2=OBJT,var2='o1')\\nPRED1=LEFTOF(object1=OBJT,var1='o2',object2=OBJT,var2='o1')\\nPRED2=METAL(object=OBJT,var='o1')\\nPRED3=RIGHTOF(object1=OBJT,var1='o0',object2=OBJT,var2='o2')\\nEVENT0=EVENT(predicates=[PRED0,PRED1,PRED2,PRED3],min_duration=15)\\nPRED4=LEFT(object=OBJT,var='o0')\\nEVENT1=EVENT(predicates=[PRED4],min_duration=5)\\nEVENT2=BEFORE(event1=EVENT0, event2=EVENT1)\\nPRED5=CYAN(object=OBJT,var='o2')\\nPRED6=LEFT(object=OBJT,var='o1')\\nEVENT3=EVENT(predicates=[PRED5,PRED6],min_duration=1)\\nEVENT4=BEFORE(event1=EVENT2, event2=EVENT3)\\nANSWER0=EVAL(expr=\\\"'yes' if len({EVENT4}) else 'no'\\\")\\nFINAL_RESULT=RESULT(var=ANSWER0)\""
   ]
  },
  {
   "cell_type": "code",
   "execution_count": null,
   "metadata": {},
   "outputs": [],
   "source": [
    "output = []\n",
    "for vid in tqdm([2807]):\n",
    "    video = []\n",
    "    if not use_precomputed:\n",
    "        cap = cv2.VideoCapture(\n",
    "            os.path.join(\n",
    "                '/gscratch/balazinska/enhaoz/VOCAL-UDF/data',\n",
    "                'clevrer',\n",
    "                f'video_{str(vid//1000*1000).zfill(5)}-{str((vid//1000+1)*1000).zfill(5)}',\n",
    "                f\"video_{str(vid).zfill(5)}.mp4\"\n",
    "            )\n",
    "        )\n",
    "        fid = 0\n",
    "        while True:\n",
    "            ret, frame = cap.read()  # Read the next frame from the video\n",
    "            if not ret:\n",
    "                break  # Break the loop if there are no more frames\n",
    "\n",
    "            # Convert the frame from BGR (OpenCV format) to RGB (PIL format)\n",
    "            frame = cv2.cvtColor(frame, cv2.COLOR_BGR2RGB)\n",
    "            # Convert the frame to a PIL Image and append to the list\n",
    "            image = Image.fromarray(frame)\n",
    "            image.thumbnail((640,640),Image.Resampling.LANCZOS)\n",
    "            video.append(image)\n",
    "            fid += 1\n",
    "    init_state = dict(\n",
    "        VIDEO=video,\n",
    "        vid=vid\n",
    "    )\n",
    "    result, prog_state = interpreter.execute(prog,init_state,inspect=False)\n",
    "    if result == 'yes':\n",
    "        output.append(vid)\n",
    "print(output)"
   ]
  },
  {
   "cell_type": "code",
   "execution_count": null,
   "metadata": {},
   "outputs": [],
   "source": []
  }
 ],
 "metadata": {
  "kernelspec": {
   "display_name": "Python 3 (ipykernel)",
   "language": "python",
   "name": "python3"
  },
  "language_info": {
   "codemirror_mode": {
    "name": "ipython",
    "version": 3
   },
   "file_extension": ".py",
   "mimetype": "text/x-python",
   "name": "python",
   "nbconvert_exporter": "python",
   "pygments_lexer": "ipython3",
   "version": "3.8.13"
  }
 },
 "nbformat": 4,
 "nbformat_minor": 4
}
