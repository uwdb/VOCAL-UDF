{
 "cells": [
  {
   "cell_type": "code",
   "execution_count": 1,
   "metadata": {},
   "outputs": [],
   "source": [
    "import os\n",
    "import sys\n",
    "module_path = os.path.abspath(os.path.join('..'))\n",
    "if module_path not in sys.path:\n",
    "    sys.path.append(module_path)"
   ]
  },
  {
   "cell_type": "code",
   "execution_count": 2,
   "metadata": {},
   "outputs": [
    {
     "name": "stdout",
     "output_type": "stream",
     "text": [
      "[2024-01-17 16:22:15,354] [INFO] [real_accelerator.py:110:get_accelerator] Setting ds_accelerator to cuda (auto detect)\n"
     ]
    }
   ],
   "source": [
    "from PIL import Image\n",
    "from IPython.core.display import HTML\n",
    "from functools import partial\n",
    "import cv2\n",
    "\n",
    "from engine.utils import ProgramGenerator, ProgramInterpreter\n",
    "from prompts.gqa_video import create_prompt\n",
    "import base64\n",
    "import numpy as np"
   ]
  },
  {
   "cell_type": "code",
   "execution_count": null,
   "metadata": {},
   "outputs": [],
   "source": [
    "interpreter = ProgramInterpreter(dataset='gqa_video')"
   ]
  },
  {
   "cell_type": "code",
   "execution_count": null,
   "metadata": {},
   "outputs": [],
   "source": [
    "prompter = partial(create_prompt,method='all')\n",
    "generator = ProgramGenerator(prompter=prompter)"
   ]
  },
  {
   "cell_type": "code",
   "execution_count": 3,
   "metadata": {},
   "outputs": [
    {
     "ename": "KeyError",
     "evalue": "0",
     "output_type": "error",
     "traceback": [
      "\u001b[0;31m---------------------------------------------------------------------------\u001b[0m",
      "\u001b[0;31mKeyError\u001b[0m                                  Traceback (most recent call last)",
      "Cell \u001b[0;32mIn[3], line 33\u001b[0m\n\u001b[1;32m     29\u001b[0m cap\u001b[38;5;241m.\u001b[39mrelease()\n\u001b[1;32m     30\u001b[0m init_state \u001b[38;5;241m=\u001b[39m \u001b[38;5;28mdict\u001b[39m(\n\u001b[1;32m     31\u001b[0m     VIDEO\u001b[38;5;241m=\u001b[39mvideo\n\u001b[1;32m     32\u001b[0m )\n\u001b[0;32m---> 33\u001b[0m \u001b[43mvideo\u001b[49m\u001b[43m[\u001b[49m\u001b[38;5;241;43m0\u001b[39;49m\u001b[43m]\u001b[49m\n",
      "\u001b[0;31mKeyError\u001b[0m: 0"
     ]
    }
   ],
   "source": [
    "# image = Image.open('../assets/clevrer1.png')\n",
    "# image.thumbnail((640,640),Image.Resampling.LANCZOS)\n",
    "# init_state = dict(\n",
    "#     IMAGE=image.convert('RGB')\n",
    "# )\n",
    "# image\n",
    "\n",
    "# Open the video file\n",
    "cap = cv2.VideoCapture('../assets/clevrer1.mp4')\n",
    "video = {}\n",
    "fid = 0\n",
    "while True:\n",
    "    ret, frame = cap.read()  # Read the next frame from the video\n",
    "    if not ret:\n",
    "        break  # Break the loop if there are no more frames\n",
    "\n",
    "    # Convert the frame from BGR (OpenCV format) to RGB (PIL format)\n",
    "    frame = cv2.cvtColor(frame, cv2.COLOR_BGR2RGB)\n",
    "    # Convert the frame to a PIL Image and append to the list\n",
    "    image = Image.fromarray(frame)\n",
    "    image.thumbnail((640,640),Image.Resampling.LANCZOS)\n",
    "    video[fid] = image\n",
    "    fid += 1\n",
    "    # if fid > 5:\n",
    "    #     break\n",
    "\n",
    "# video = video[:5]\n",
    "# Release the video capture object\n",
    "cap.release()\n",
    "init_state = dict(\n",
    "    VIDEO=video\n",
    ")\n",
    "video[0]"
   ]
  },
  {
   "cell_type": "code",
   "execution_count": null,
   "metadata": {},
   "outputs": [],
   "source": [
    "question = \"Is there a purple sphere that is first on the left of a gray sphere, then moves to the right of the grey sphere in the video?\"\n",
    "prog,_ = generator.generate(dict(question=question))\n",
    "print(prog)"
   ]
  },
  {
   "cell_type": "raw",
   "metadata": {},
   "source": [
    "question = \"a red cube is on the left of a blue cylinder, then it moves to the right of the blue cylinder.\"\n",
    "\n",
    "# VIDEO: {fid: fid, image: PIL image}\n",
    "BOX0=LOC(video=VIDEO,object='blue cylinder') # BOX0: {fid: fid, bboxes: list of bboxes; can be empty}\n",
    "VIDEO0=CROP_LEFTOF(video=VIDEO,box=BOX0) # VIDEO0: {fid: fid, image: cropped image}\n",
    "BOX1=LOC(video=VIDEO0,object='red cube')\n",
    "ANSWER0=COUNT(box=BOX1) # ANSWER0: {fid, count}\n",
    "ANSWER1=EVAL(expr=\"[key for key, value in {ANSWER0}.items() if value > 0]\")\n",
    "# Duration constraint\n",
    "# ANSWER1=EXEC(\n",
    "#    expr=\"\"\"\n",
    "#    for i in range(len({ANSWER1}) - 5):\n",
    "#        if {ANSWER1}[i + 4] - {ANSWER1}[i] == 4:\n",
    "#            return {ANSWER1}[i]\n",
    "#    return None\n",
    "#    \"\"\")\n",
    "\n",
    "VIDEO1=CROP_RIGHTOF(video=VIDEO,box=BOX0)\n",
    "BOX2=LOC(video=VIDEO1,object='red cube')\n",
    "ANSWER2=COUNT(box=BOX2) # ANSWER2: {fid, count}\n",
    "ANSWER3=EVAL(expr=\"[key for key, value in {ANSWER2}.items() if value > 0]\")\n",
    "ANSWER4=BEFORE(frames1=ANSWER1,frames2=ANSWER3) # Return True if min(frames1) < min(frames2), False otherwise.\n",
    "FINAL_RESULT=RESULT(var=ANSWER4)\n",
    "\n",
    "ANSWER0=NEAR(box1=BOX1,box2=BOX2) # ANSWER0: {fid, boolean}, where fid is the union of fid in BOX1 and BOX2"
   ]
  },
  {
   "cell_type": "code",
   "execution_count": null,
   "metadata": {},
   "outputs": [],
   "source": [
    "result, prog_state, html_str = interpreter.execute(prog,init_state,inspect=True)"
   ]
  },
  {
   "cell_type": "code",
   "execution_count": null,
   "metadata": {},
   "outputs": [],
   "source": [
    "result"
   ]
  },
  {
   "cell_type": "code",
   "execution_count": null,
   "metadata": {},
   "outputs": [],
   "source": [
    "HTML(html_str)"
   ]
  },
  {
   "cell_type": "code",
   "execution_count": null,
   "metadata": {},
   "outputs": [],
   "source": [
    "question = \"Is there a blue rubber sphere that is first on the left of a gray sphere, then moves to the right of the gray sphere in the video?\"\n",
    "prog,_ = generator.generate(dict(question=question))\n",
    "print(prog)\n",
    "result, prog_state, html_str = interpreter.execute(prog,init_state,inspect=True)\n",
    "HTML(html_str)"
   ]
  },
  {
   "cell_type": "code",
   "execution_count": null,
   "metadata": {},
   "outputs": [],
   "source": [
    "question = \"Is there a blue rubber ball that is first on the left of a gray ball, then moves to the right of the gray ball in the video?\"\n",
    "prog,_ = generator.generate(dict(question=question))\n",
    "print(prog)\n",
    "result, prog_state, html_str = interpreter.execute(prog,init_state,inspect=True)\n",
    "HTML(html_str)"
   ]
  }
 ],
 "metadata": {
  "kernelspec": {
   "display_name": "Python 3 (ipykernel)",
   "language": "python",
   "name": "python3"
  },
  "language_info": {
   "codemirror_mode": {
    "name": "ipython",
    "version": 3
   },
   "file_extension": ".py",
   "mimetype": "text/x-python",
   "name": "python",
   "nbconvert_exporter": "python",
   "pygments_lexer": "ipython3",
   "version": "3.8.13"
  }
 },
 "nbformat": 4,
 "nbformat_minor": 4
}
